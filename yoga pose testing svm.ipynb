{
 "cells": [
  {
   "cell_type": "markdown",
   "id": "b18c85f5",
   "metadata": {},
   "source": [
    "# Landmark detection"
   ]
  },
  {
   "cell_type": "code",
   "execution_count": 1,
   "id": "0e565f2e",
   "metadata": {
    "collapsed": true
   },
   "outputs": [
    {
     "name": "stdout",
     "output_type": "stream",
     "text": [
      "\u001b[33mDEPRECATION: Configuring installation scheme with distutils config files is deprecated and will no longer work in the near future. If you are using a Homebrew or Linuxbrew Python, please see discussion at https://github.com/Homebrew/homebrew-core/issues/76621\u001b[0m\n",
      "Requirement already satisfied: mediapipe in /usr/local/lib/python3.9/site-packages (0.8.8)\n",
      "Requirement already satisfied: opencv-python in /usr/local/lib/python3.9/site-packages (4.5.3.56)\n",
      "Requirement already satisfied: pandas in /usr/local/lib/python3.9/site-packages (1.3.4)\n",
      "Requirement already satisfied: scikit-learn in /usr/local/lib/python3.9/site-packages (1.0)\n",
      "Requirement already satisfied: matplotlib in /usr/local/lib/python3.9/site-packages (from mediapipe) (3.4.3)\n",
      "Requirement already satisfied: protobuf>=3.11.4 in /usr/local/lib/python3.9/site-packages (from mediapipe) (3.18.1)\n",
      "Requirement already satisfied: opencv-contrib-python in /usr/local/lib/python3.9/site-packages (from mediapipe) (4.5.3.56)\n",
      "Requirement already satisfied: wheel in /usr/local/lib/python3.9/site-packages (from mediapipe) (0.37.0)\n",
      "Requirement already satisfied: attrs>=19.1.0 in /usr/local/lib/python3.9/site-packages (from mediapipe) (21.2.0)\n",
      "Requirement already satisfied: numpy in /usr/local/lib/python3.9/site-packages (from mediapipe) (1.21.2)\n",
      "Requirement already satisfied: six in /usr/local/lib/python3.9/site-packages (from mediapipe) (1.16.0)\n",
      "Requirement already satisfied: absl-py in /usr/local/lib/python3.9/site-packages (from mediapipe) (0.14.1)\n",
      "Requirement already satisfied: pytz>=2017.3 in /usr/local/lib/python3.9/site-packages (from pandas) (2021.3)\n",
      "Requirement already satisfied: python-dateutil>=2.7.3 in /usr/local/lib/python3.9/site-packages (from pandas) (2.8.2)\n",
      "Requirement already satisfied: joblib>=0.11 in /usr/local/lib/python3.9/site-packages (from scikit-learn) (1.1.0)\n",
      "Requirement already satisfied: scipy>=1.1.0 in /usr/local/lib/python3.9/site-packages (from scikit-learn) (1.7.1)\n",
      "Requirement already satisfied: threadpoolctl>=2.0.0 in /usr/local/lib/python3.9/site-packages (from scikit-learn) (3.0.0)\n",
      "Requirement already satisfied: pyparsing>=2.2.1 in /usr/local/lib/python3.9/site-packages (from matplotlib->mediapipe) (2.4.7)\n",
      "Requirement already satisfied: pillow>=6.2.0 in /usr/local/lib/python3.9/site-packages (from matplotlib->mediapipe) (8.3.2)\n",
      "Requirement already satisfied: kiwisolver>=1.0.1 in /usr/local/lib/python3.9/site-packages (from matplotlib->mediapipe) (1.3.2)\n",
      "Requirement already satisfied: cycler>=0.10 in /usr/local/lib/python3.9/site-packages (from matplotlib->mediapipe) (0.10.0)\n",
      "\u001b[33mWARNING: You are using pip version 21.3; however, version 22.0.4 is available.\n",
      "You should consider upgrading via the '/usr/local/opt/python@3.9/bin/python3.9 -m pip install --upgrade pip' command.\u001b[0m\n"
     ]
    }
   ],
   "source": [
    "!pip install mediapipe opencv-python pandas scikit-learn"
   ]
  },
  {
   "cell_type": "code",
   "execution_count": 1,
   "id": "2cb14bf3",
   "metadata": {},
   "outputs": [],
   "source": [
    "import mediapipe as mp\n",
    "import cv2\n",
    "import csv\n",
    "import os\n",
    "import numpy as np\n",
    "from matplotlib import pyplot as plt"
   ]
  },
  {
   "cell_type": "code",
   "execution_count": 2,
   "id": "a96677fa",
   "metadata": {},
   "outputs": [],
   "source": [
    "mp_drawing = mp.solutions.drawing_utils # Drawing helpers\n",
    "mp_pose = mp.solutions.pose # Mediapipe Solutions"
   ]
  },
  {
   "cell_type": "code",
   "execution_count": 12,
   "id": "6fcb2292",
   "metadata": {},
   "outputs": [
    {
     "name": "stdout",
     "output_type": "stream",
     "text": [
      "yoga pose dataset/TRAIN/downdog/00000212.png\n",
      "yoga pose dataset/TRAIN/downdog/00000367.png\n",
      "yoga pose dataset/TRAIN/downdog/00000173.jpg\n",
      "yoga pose dataset/TRAIN/downdog/00000239.jpg\n",
      "yoga pose dataset/TRAIN/downdog/00000177.jpg\n",
      "yoga pose dataset/TRAIN/downdog/00000188.png\n",
      "yoga pose dataset/TRAIN/downdog/00000361.jpg\n",
      "yoga pose dataset/TRAIN/downdog/00000270.jpg\n",
      "yoga pose dataset/TRAIN/downdog/00000300.jpg\n"
     ]
    }
   ],
   "source": [
    "class_name = \"Downdog\"\n",
    "imgs = []\n",
    "path = \"yoga pose dataset/TRAIN/downdog/\"\n",
    "for f in os.listdir(path):\n",
    "    imgs.append(path+f)\n",
    "    \n",
    "\n",
    "for i in range (0,90):\n",
    "    img = cv2.imread(imgs[i])\n",
    "    #plt.figure(figsize = [10,10])\n",
    "    #plt.title(\"Sample Image\");plt.axis('off');plt.imshow(img[:,:,::-1]);plt.show()\n",
    "\n",
    "    try:\n",
    "\n",
    "        with mp_pose.Pose(min_detection_confidence=0.5, min_tracking_confidence=0.5) as pose:\n",
    "\n",
    "                img = cv2.cvtColor(img, cv2.COLOR_BGR2RGB)\n",
    "                results = pose.process(img)\n",
    "                x = len(results.pose_landmarks.landmark)\n",
    "\n",
    "                #for i in range (0,x):\n",
    "                 #   print(mp_holistic.PoseLandmark(i).name)\n",
    "                 #   print(results.pose_landmarks.landmark[mp_holistic.PoseLandmark(i).value])\n",
    "\n",
    "                pose = results.pose_landmarks.landmark\n",
    "                pose_row = list(np.array([[landmark.x, landmark.y, landmark.z, landmark.visibility] for landmark in pose]).flatten())\n",
    "                pose_row.insert(0,class_name)\n",
    "\n",
    "                with open('pose.csv', mode='a', newline='') as f:\n",
    "                    csv_writer = csv.writer(f, delimiter=',', quotechar='\"', quoting=csv.QUOTE_MINIMAL)\n",
    "                    csv_writer.writerow(pose_row) \n",
    "    except AttributeError: \n",
    "                print(imgs[i])\n",
    "                error+=1\n",
    "                errors.append(imgs[i])"
   ]
  },
  {
   "cell_type": "code",
   "execution_count": 15,
   "id": "09acce54",
   "metadata": {},
   "outputs": [
    {
     "name": "stdout",
     "output_type": "stream",
     "text": [
      "yoga pose dataset/TRAIN/goddess/00000400.jpg\n",
      "yoga pose dataset/TRAIN/goddess/00000165.jpg\n",
      "yoga pose dataset/TRAIN/goddess/00000204.jpg\n",
      "yoga pose dataset/TRAIN/goddess/00000228.jpg\n",
      "yoga pose dataset/TRAIN/goddess/00000149.jpg\n",
      "yoga pose dataset/TRAIN/goddess/00000110.jpg\n",
      "yoga pose dataset/TRAIN/goddess/00000272.png\n",
      "yoga pose dataset/TRAIN/goddess/00000299.jpg\n"
     ]
    }
   ],
   "source": [
    "class_name = \"goddess\"\n",
    "imgs2 = []\n",
    "path = \"yoga pose dataset/TRAIN/goddess/\"\n",
    "for f in os.listdir(path):\n",
    "    imgs2.append(path+f)\n",
    "    \n",
    "error=0\n",
    "errors=[]\n",
    "\n",
    "for i in range (0,70):\n",
    "    img = cv2.imread(imgs2[i])\n",
    "    #plt.figure(figsize = [10,10])\n",
    "    #plt.title(\"Sample Image\");plt.axis('off');plt.imshow(img[:,:,::-1]);plt.show()\n",
    "\n",
    "    try:\n",
    "\n",
    "        with mp_pose.Pose(min_detection_confidence=0.5, min_tracking_confidence=0.5) as pose:\n",
    "\n",
    "                img = cv2.cvtColor(img, cv2.COLOR_BGR2RGB)\n",
    "                results = pose.process(img)\n",
    "                x = len(results.pose_landmarks.landmark)\n",
    "\n",
    "                #for i in range (0,x):\n",
    "                 #   print(mp_holistic.PoseLandmark(i).name)\n",
    "                 #   print(results.pose_landmarks.landmark[mp_holistic.PoseLandmark(i).value])\n",
    "\n",
    "                pose = results.pose_landmarks.landmark\n",
    "                pose_row = list(np.array([[landmark.x, landmark.y, landmark.z, landmark.visibility] for landmark in pose]).flatten())\n",
    "                pose_row.insert(0,class_name)\n",
    "\n",
    "                with open('pose.csv', mode='a', newline='') as f:\n",
    "                    csv_writer = csv.writer(f, delimiter=',', quotechar='\"', quoting=csv.QUOTE_MINIMAL)\n",
    "                    csv_writer.writerow(pose_row) \n",
    "    except AttributeError: \n",
    "                print(imgs2[i])\n",
    "                error+=1\n",
    "                errors.append(imgs2[i])"
   ]
  },
  {
   "cell_type": "code",
   "execution_count": 17,
   "id": "1a313eac",
   "metadata": {},
   "outputs": [
    {
     "name": "stdout",
     "output_type": "stream",
     "text": [
      "yoga pose dataset/TRAIN/tree/00000106.jpg\n"
     ]
    },
    {
     "name": "stderr",
     "output_type": "stream",
     "text": [
      "Premature end of JPEG file\n"
     ]
    }
   ],
   "source": [
    "class_name = \"tree\"\n",
    "imgs3 = []\n",
    "path = \"yoga pose dataset/TRAIN/tree/\"\n",
    "for f in os.listdir(path):\n",
    "    imgs3.append(path+f)\n",
    "    \n",
    "error=0\n",
    "errors=[]\n",
    "\n",
    "for i in range (0,90):\n",
    "    img = cv2.imread(imgs3[i])\n",
    "    #plt.figure(figsize = [10,10])\n",
    "    #plt.title(\"Sample Image\");plt.axis('off');plt.imshow(img[:,:,::-1]);plt.show()\n",
    "\n",
    "    try:\n",
    "\n",
    "        with mp_pose.Pose(min_detection_confidence=0.5, min_tracking_confidence=0.5) as pose:\n",
    "\n",
    "                img = cv2.cvtColor(img, cv2.COLOR_BGR2RGB)\n",
    "                results = pose.process(img)\n",
    "                x = len(results.pose_landmarks.landmark)\n",
    "\n",
    "                #for i in range (0,x):\n",
    "                 #   print(mp_holistic.PoseLandmark(i).name)\n",
    "                 #   print(results.pose_landmarks.landmark[mp_holistic.PoseLandmark(i).value])\n",
    "\n",
    "                pose = results.pose_landmarks.landmark\n",
    "                pose_row = list(np.array([[landmark.x, landmark.y, landmark.z, landmark.visibility] for landmark in pose]).flatten())\n",
    "                pose_row.insert(0,class_name)\n",
    "\n",
    "                with open('pose.csv', mode='a', newline='') as f:\n",
    "                    csv_writer = csv.writer(f, delimiter=',', quotechar='\"', quoting=csv.QUOTE_MINIMAL)\n",
    "                    csv_writer.writerow(pose_row) \n",
    "    except AttributeError: \n",
    "                print(imgs3[i])\n",
    "                error+=1\n",
    "                errors.append(imgs3[i])"
   ]
  },
  {
   "cell_type": "code",
   "execution_count": 19,
   "id": "6c2ff68a",
   "metadata": {},
   "outputs": [],
   "source": [
    "class_name = \"warrior2\"\n",
    "imgs4 = []\n",
    "path = \"yoga pose dataset/TRAIN/warrior2/\"\n",
    "for f in os.listdir(path):\n",
    "    imgs4.append(path+f)\n",
    "    \n",
    "error=0\n",
    "errors=[]\n",
    "\n",
    "for i in range (0,94):\n",
    "    img = cv2.imread(imgs4[i])\n",
    "    #plt.figure(figsize = [10,10])\n",
    "    #plt.title(\"Sample Image\");plt.axis('off');plt.imshow(img[:,:,::-1]);plt.show()\n",
    "\n",
    "    try:\n",
    "\n",
    "        with mp_pose.Pose(min_detection_confidence=0.5, min_tracking_confidence=0.5) as pose:\n",
    "\n",
    "                img = cv2.cvtColor(img, cv2.COLOR_BGR2RGB)\n",
    "                results = pose.process(img)\n",
    "                x = len(results.pose_landmarks.landmark)\n",
    "\n",
    "                #for i in range (0,x):\n",
    "                 #   print(mp_holistic.PoseLandmark(i).name)\n",
    "                 #   print(results.pose_landmarks.landmark[mp_holistic.PoseLandmark(i).value])\n",
    "\n",
    "                pose = results.pose_landmarks.landmark\n",
    "                pose_row = list(np.array([[landmark.x, landmark.y, landmark.z, landmark.visibility] for landmark in pose]).flatten())\n",
    "                pose_row.insert(0,class_name)\n",
    "\n",
    "                with open('pose.csv', mode='a', newline='') as f:\n",
    "                    csv_writer = csv.writer(f, delimiter=',', quotechar='\"', quoting=csv.QUOTE_MINIMAL)\n",
    "                    csv_writer.writerow(pose_row) \n",
    "    except AttributeError: \n",
    "                print(imgs4[i])\n",
    "                error+=1\n",
    "                errors.append(imgs4[i])"
   ]
  },
  {
   "cell_type": "markdown",
   "id": "1297c993",
   "metadata": {},
   "source": [
    "# Data Cleaning with Pandas"
   ]
  },
  {
   "cell_type": "markdown",
   "id": "5308d4b7",
   "metadata": {},
   "source": [
    "## 2.1 Read in Collected Data and Process"
   ]
  },
  {
   "cell_type": "code",
   "execution_count": 5,
   "id": "7f3aad28",
   "metadata": {},
   "outputs": [],
   "source": [
    "import pandas as pd\n",
    "from sklearn.model_selection import train_test_split\n",
    "import seaborn as sns"
   ]
  },
  {
   "cell_type": "code",
   "execution_count": 6,
   "id": "62f3f274",
   "metadata": {},
   "outputs": [],
   "source": [
    "df = pd.read_csv('pose2.csv')"
   ]
  },
  {
   "cell_type": "code",
   "execution_count": 7,
   "id": "3176a5d3",
   "metadata": {},
   "outputs": [
    {
     "name": "stdout",
     "output_type": "stream",
     "text": [
      "Class             0\n",
      "x1                0\n",
      "y1                0\n",
      "x2                0\n",
      "y2                0\n",
      "               ... \n",
      "Unnamed: 110    323\n",
      "Unnamed: 111    323\n",
      "Unnamed: 112    323\n",
      "Unnamed: 113    323\n",
      "Unnamed: 114    323\n",
      "Length: 115, dtype: int64\n"
     ]
    }
   ],
   "source": [
    "print (df.isnull().sum())"
   ]
  },
  {
   "cell_type": "code",
   "execution_count": 8,
   "id": "d57b8747",
   "metadata": {},
   "outputs": [],
   "source": [
    "df.head()\n",
    "df = df.loc[:, ~df.columns.str.contains('^Unnamed')]"
   ]
  },
  {
   "cell_type": "code",
   "execution_count": 9,
   "id": "4398fee6",
   "metadata": {},
   "outputs": [
    {
     "name": "stdout",
     "output_type": "stream",
     "text": [
      "Class    0\n",
      "x1       0\n",
      "y1       0\n",
      "x2       0\n",
      "y2       0\n",
      "        ..\n",
      "y31      0\n",
      "x32      0\n",
      "y32      0\n",
      "x33      0\n",
      "y33      0\n",
      "Length: 67, dtype: int64\n"
     ]
    }
   ],
   "source": [
    "print (df.isnull().sum())"
   ]
  },
  {
   "cell_type": "code",
   "execution_count": 10,
   "id": "21c6ce39",
   "metadata": {},
   "outputs": [
    {
     "name": "stdout",
     "output_type": "stream",
     "text": [
      "Number od rows/examples and columns in the dataset: (324, 67)\n"
     ]
    }
   ],
   "source": [
    "print(f'Number od rows/examples and columns in the dataset: {df.shape}')"
   ]
  },
  {
   "cell_type": "code",
   "execution_count": 11,
   "id": "5a7b5549",
   "metadata": {},
   "outputs": [
    {
     "name": "stdout",
     "output_type": "stream",
     "text": [
      "<class 'pandas.core.frame.DataFrame'>\n",
      "RangeIndex: 324 entries, 0 to 323\n",
      "Data columns (total 67 columns):\n",
      " #   Column  Non-Null Count  Dtype  \n",
      "---  ------  --------------  -----  \n",
      " 0   Class   324 non-null    object \n",
      " 1   x1      324 non-null    float64\n",
      " 2   y1      324 non-null    float64\n",
      " 3   x2      324 non-null    float64\n",
      " 4   y2      324 non-null    float64\n",
      " 5   x3      324 non-null    float64\n",
      " 6   y3      324 non-null    float64\n",
      " 7   x4      324 non-null    float64\n",
      " 8   y4      324 non-null    float64\n",
      " 9   x5      324 non-null    float64\n",
      " 10  y5      324 non-null    float64\n",
      " 11  x6      324 non-null    float64\n",
      " 12  y6      324 non-null    float64\n",
      " 13  x7      324 non-null    float64\n",
      " 14  y7      324 non-null    float64\n",
      " 15  x8      324 non-null    float64\n",
      " 16  y8      324 non-null    float64\n",
      " 17  x9      324 non-null    float64\n",
      " 18  y9      324 non-null    float64\n",
      " 19  x10     324 non-null    float64\n",
      " 20  y10     324 non-null    float64\n",
      " 21  x11     324 non-null    float64\n",
      " 22  y11     324 non-null    float64\n",
      " 23  x12     324 non-null    float64\n",
      " 24  y12     324 non-null    float64\n",
      " 25  x13     324 non-null    float64\n",
      " 26  y13     324 non-null    float64\n",
      " 27  x14     324 non-null    float64\n",
      " 28  y14     324 non-null    float64\n",
      " 29  x15     324 non-null    float64\n",
      " 30  y15     324 non-null    float64\n",
      " 31  x16     324 non-null    float64\n",
      " 32  y16     324 non-null    float64\n",
      " 33  x17     324 non-null    float64\n",
      " 34  y17     324 non-null    float64\n",
      " 35  x18     324 non-null    float64\n",
      " 36  y18     324 non-null    float64\n",
      " 37  x19     324 non-null    float64\n",
      " 38  y19     324 non-null    float64\n",
      " 39  x20     324 non-null    float64\n",
      " 40  y20     324 non-null    float64\n",
      " 41  x21     324 non-null    float64\n",
      " 42  y21     324 non-null    float64\n",
      " 43  x22     324 non-null    float64\n",
      " 44  y22     324 non-null    float64\n",
      " 45  x23     324 non-null    float64\n",
      " 46  y23     324 non-null    float64\n",
      " 47  x24     324 non-null    float64\n",
      " 48  y24     324 non-null    float64\n",
      " 49  x25     324 non-null    float64\n",
      " 50  y25     324 non-null    float64\n",
      " 51  x26     324 non-null    float64\n",
      " 52  y26     324 non-null    float64\n",
      " 53  x27     324 non-null    float64\n",
      " 54  y27     324 non-null    float64\n",
      " 55  x28     324 non-null    float64\n",
      " 56  y28     324 non-null    float64\n",
      " 57  x29     324 non-null    float64\n",
      " 58  y29     324 non-null    float64\n",
      " 59  x30     324 non-null    float64\n",
      " 60  y30     324 non-null    float64\n",
      " 61  x31     324 non-null    float64\n",
      " 62  y31     324 non-null    float64\n",
      " 63  x32     324 non-null    float64\n",
      " 64  y32     324 non-null    float64\n",
      " 65  x33     324 non-null    float64\n",
      " 66  y33     324 non-null    float64\n",
      "dtypes: float64(66), object(1)\n",
      "memory usage: 169.7+ KB\n"
     ]
    }
   ],
   "source": [
    "#Summary of information on the dataset\n",
    "df.info()"
   ]
  },
  {
   "cell_type": "markdown",
   "id": "cb6a6b54",
   "metadata": {},
   "source": [
    "# Class Distribution - Undersampling the data"
   ]
  },
  {
   "cell_type": "code",
   "execution_count": 12,
   "id": "9782056e",
   "metadata": {},
   "outputs": [
    {
     "data": {
      "text/plain": [
       "warrior2    93\n",
       "tree        88\n",
       "Downdog     81\n",
       "goddess     62\n",
       "Name: Class, dtype: int64"
      ]
     },
     "execution_count": 12,
     "metadata": {},
     "output_type": "execute_result"
    }
   ],
   "source": [
    "df['Class'].value_counts()"
   ]
  },
  {
   "cell_type": "code",
   "execution_count": 13,
   "id": "086d0fd4",
   "metadata": {},
   "outputs": [],
   "source": [
    "X = df.drop('Class', axis=1) # features\n",
    "y = df['Class'] # target value"
   ]
  },
  {
   "cell_type": "code",
   "execution_count": 14,
   "id": "a74a2dc3",
   "metadata": {},
   "outputs": [
    {
     "data": {
      "text/plain": [
       "<AxesSubplot:ylabel='Class'>"
      ]
     },
     "execution_count": 14,
     "metadata": {},
     "output_type": "execute_result"
    },
    {
     "data": {
      "image/png": "[encoded data removed]",
      "text/plain": [
       "<Figure size 432x288 with 1 Axes>"
      ]
     },
     "metadata": {},
     "output_type": "display_data"
    }
   ],
   "source": [
    "#show pie plot\n",
    "y.value_counts()\n",
    "y.value_counts().plot.pie(autopct='%1.1f%%')"
   ]
  },
  {
   "cell_type": "code",
   "execution_count": 15,
   "id": "f1e083cd",
   "metadata": {},
   "outputs": [],
   "source": [
    "from imblearn.under_sampling import RandomUnderSampler"
   ]
  },
  {
   "cell_type": "code",
   "execution_count": 16,
   "id": "824eef2b",
   "metadata": {},
   "outputs": [
    {
     "data": {
      "text/plain": [
       "Text(0.5, 1.0, 'Under-sampling')"
      ]
     },
     "execution_count": 16,
     "metadata": {},
     "output_type": "execute_result"
    },
    {
     "data": {
      "image/png": "[encoded data removed]",
      "text/plain": [
       "<Figure size 432x288 with 1 Axes>"
      ]
     },
     "metadata": {},
     "output_type": "display_data"
    }
   ],
   "source": [
    "rus = RandomUnderSampler(random_state=0)\n",
    "X_resampled, y_resampled = rus.fit_resample(X,y)\n",
    "\n",
    "ax= y_resampled.value_counts().plot.pie(autopct='%1.1f%%')\n",
    "ax.set_title(\"Under-sampling\")"
   ]
  },
  {
   "cell_type": "code",
   "execution_count": 17,
   "id": "c3a8f169",
   "metadata": {},
   "outputs": [
    {
     "data": {
      "text/plain": [
       "Downdog     62\n",
       "goddess     62\n",
       "tree        62\n",
       "warrior2    62\n",
       "Name: Class, dtype: int64"
      ]
     },
     "execution_count": 17,
     "metadata": {},
     "output_type": "execute_result"
    }
   ],
   "source": [
    "y_resampled.value_counts()"
   ]
  },
  {
   "cell_type": "code",
   "execution_count": 18,
   "id": "ce4e8b6d",
   "metadata": {},
   "outputs": [
    {
     "data": {
      "text/plain": [
       "0    Downdog\n",
       "1    Downdog\n",
       "2    Downdog\n",
       "3    Downdog\n",
       "4    Downdog\n",
       "Name: Class, dtype: object"
      ]
     },
     "execution_count": 18,
     "metadata": {},
     "output_type": "execute_result"
    }
   ],
   "source": [
    "y_resampled.head()"
   ]
  },
  {
   "cell_type": "code",
   "execution_count": 19,
   "id": "fe3d8bb7",
   "metadata": {},
   "outputs": [
    {
     "data": {
      "text/html": [
       "<div>\n",
       "<style scoped>\n",
       "    .dataframe tbody tr th:only-of-type {\n",
       "        vertical-align: middle;\n",
       "    }\n",
       "\n",
       "    .dataframe tbody tr th {\n",
       "        vertical-align: top;\n",
       "    }\n",
       "\n",
       "    .dataframe thead th {\n",
       "        text-align: right;\n",
       "    }\n",
       "</style>\n",
       "<table border=\"1\" class=\"dataframe\">\n",
       "  <thead>\n",
       "    <tr style=\"text-align: right;\">\n",
       "      <th></th>\n",
       "      <th>x1</th>\n",
       "      <th>y1</th>\n",
       "      <th>x2</th>\n",
       "      <th>y2</th>\n",
       "      <th>x3</th>\n",
       "      <th>y3</th>\n",
       "      <th>x4</th>\n",
       "      <th>y4</th>\n",
       "      <th>x5</th>\n",
       "      <th>y5</th>\n",
       "      <th>...</th>\n",
       "      <th>x29</th>\n",
       "      <th>y29</th>\n",
       "      <th>x30</th>\n",
       "      <th>y30</th>\n",
       "      <th>x31</th>\n",
       "      <th>y31</th>\n",
       "      <th>x32</th>\n",
       "      <th>y32</th>\n",
       "      <th>x33</th>\n",
       "      <th>y33</th>\n",
       "    </tr>\n",
       "  </thead>\n",
       "  <tbody>\n",
       "    <tr>\n",
       "      <th>0</th>\n",
       "      <td>0.348429</td>\n",
       "      <td>0.607127</td>\n",
       "      <td>0.358834</td>\n",
       "      <td>0.603950</td>\n",
       "      <td>0.359749</td>\n",
       "      <td>0.601745</td>\n",
       "      <td>0.360963</td>\n",
       "      <td>0.599474</td>\n",
       "      <td>0.359650</td>\n",
       "      <td>0.602220</td>\n",
       "      <td>...</td>\n",
       "      <td>0.028442</td>\n",
       "      <td>0.661362</td>\n",
       "      <td>0.022053</td>\n",
       "      <td>0.651869</td>\n",
       "      <td>0.008426</td>\n",
       "      <td>0.681311</td>\n",
       "      <td>0.081672</td>\n",
       "      <td>0.708391</td>\n",
       "      <td>0.067105</td>\n",
       "      <td>0.729975</td>\n",
       "    </tr>\n",
       "    <tr>\n",
       "      <th>1</th>\n",
       "      <td>0.470117</td>\n",
       "      <td>0.526725</td>\n",
       "      <td>0.492140</td>\n",
       "      <td>0.541038</td>\n",
       "      <td>0.501595</td>\n",
       "      <td>0.538803</td>\n",
       "      <td>0.510996</td>\n",
       "      <td>0.536353</td>\n",
       "      <td>0.465476</td>\n",
       "      <td>0.543988</td>\n",
       "      <td>...</td>\n",
       "      <td>0.247815</td>\n",
       "      <td>0.387913</td>\n",
       "      <td>0.484901</td>\n",
       "      <td>0.385771</td>\n",
       "      <td>0.235024</td>\n",
       "      <td>0.388868</td>\n",
       "      <td>0.499485</td>\n",
       "      <td>0.471794</td>\n",
       "      <td>0.234441</td>\n",
       "      <td>0.467935</td>\n",
       "    </tr>\n",
       "    <tr>\n",
       "      <th>2</th>\n",
       "      <td>0.434726</td>\n",
       "      <td>0.690594</td>\n",
       "      <td>0.414310</td>\n",
       "      <td>0.710402</td>\n",
       "      <td>0.411133</td>\n",
       "      <td>0.708804</td>\n",
       "      <td>0.407927</td>\n",
       "      <td>0.706974</td>\n",
       "      <td>0.415032</td>\n",
       "      <td>0.711396</td>\n",
       "      <td>...</td>\n",
       "      <td>0.871031</td>\n",
       "      <td>0.747058</td>\n",
       "      <td>0.922352</td>\n",
       "      <td>0.818769</td>\n",
       "      <td>0.905447</td>\n",
       "      <td>0.802343</td>\n",
       "      <td>0.810397</td>\n",
       "      <td>0.873039</td>\n",
       "      <td>0.789424</td>\n",
       "      <td>0.843384</td>\n",
       "    </tr>\n",
       "    <tr>\n",
       "      <th>3</th>\n",
       "      <td>0.476755</td>\n",
       "      <td>0.702076</td>\n",
       "      <td>0.472901</td>\n",
       "      <td>0.689650</td>\n",
       "      <td>0.474232</td>\n",
       "      <td>0.686955</td>\n",
       "      <td>0.475628</td>\n",
       "      <td>0.683643</td>\n",
       "      <td>0.471884</td>\n",
       "      <td>0.690786</td>\n",
       "      <td>...</td>\n",
       "      <td>0.814242</td>\n",
       "      <td>0.728324</td>\n",
       "      <td>0.851533</td>\n",
       "      <td>0.771610</td>\n",
       "      <td>0.827237</td>\n",
       "      <td>0.749827</td>\n",
       "      <td>0.815361</td>\n",
       "      <td>0.819688</td>\n",
       "      <td>0.795740</td>\n",
       "      <td>0.796176</td>\n",
       "    </tr>\n",
       "    <tr>\n",
       "      <th>4</th>\n",
       "      <td>0.447445</td>\n",
       "      <td>0.775211</td>\n",
       "      <td>0.437780</td>\n",
       "      <td>0.782840</td>\n",
       "      <td>0.435813</td>\n",
       "      <td>0.781855</td>\n",
       "      <td>0.433856</td>\n",
       "      <td>0.780995</td>\n",
       "      <td>0.440893</td>\n",
       "      <td>0.783878</td>\n",
       "      <td>...</td>\n",
       "      <td>0.696904</td>\n",
       "      <td>0.824289</td>\n",
       "      <td>0.731231</td>\n",
       "      <td>0.869701</td>\n",
       "      <td>0.718407</td>\n",
       "      <td>0.856146</td>\n",
       "      <td>0.665654</td>\n",
       "      <td>0.885232</td>\n",
       "      <td>0.657450</td>\n",
       "      <td>0.875800</td>\n",
       "    </tr>\n",
       "  </tbody>\n",
       "</table>\n",
       "<p>5 rows × 66 columns</p>\n",
       "</div>"
      ],
      "text/plain": [
       "         x1        y1        x2        y2        x3        y3        x4  \\\n",
       "0  0.348429  0.607127  0.358834  0.603950  0.359749  0.601745  0.360963   \n",
       "1  0.470117  0.526725  0.492140  0.541038  0.501595  0.538803  0.510996   \n",
       "2  0.434726  0.690594  0.414310  0.710402  0.411133  0.708804  0.407927   \n",
       "3  0.476755  0.702076  0.472901  0.689650  0.474232  0.686955  0.475628   \n",
       "4  0.447445  0.775211  0.437780  0.782840  0.435813  0.781855  0.433856   \n",
       "\n",
       "         y4        x5        y5  ...       x29       y29       x30       y30  \\\n",
       "0  0.599474  0.359650  0.602220  ...  0.028442  0.661362  0.022053  0.651869   \n",
       "1  0.536353  0.465476  0.543988  ...  0.247815  0.387913  0.484901  0.385771   \n",
       "2  0.706974  0.415032  0.711396  ...  0.871031  0.747058  0.922352  0.818769   \n",
       "3  0.683643  0.471884  0.690786  ...  0.814242  0.728324  0.851533  0.771610   \n",
       "4  0.780995  0.440893  0.783878  ...  0.696904  0.824289  0.731231  0.869701   \n",
       "\n",
       "        x31       y31       x32       y32       x33       y33  \n",
       "0  0.008426  0.681311  0.081672  0.708391  0.067105  0.729975  \n",
       "1  0.235024  0.388868  0.499485  0.471794  0.234441  0.467935  \n",
       "2  0.905447  0.802343  0.810397  0.873039  0.789424  0.843384  \n",
       "3  0.827237  0.749827  0.815361  0.819688  0.795740  0.796176  \n",
       "4  0.718407  0.856146  0.665654  0.885232  0.657450  0.875800  \n",
       "\n",
       "[5 rows x 66 columns]"
      ]
     },
     "execution_count": 19,
     "metadata": {},
     "output_type": "execute_result"
    }
   ],
   "source": [
    "X_resampled.head()"
   ]
  },
  {
   "cell_type": "code",
   "execution_count": 20,
   "id": "dd875afe",
   "metadata": {},
   "outputs": [
    {
     "data": {
      "text/html": [
       "<div>\n",
       "<style scoped>\n",
       "    .dataframe tbody tr th:only-of-type {\n",
       "        vertical-align: middle;\n",
       "    }\n",
       "\n",
       "    .dataframe tbody tr th {\n",
       "        vertical-align: top;\n",
       "    }\n",
       "\n",
       "    .dataframe thead th {\n",
       "        text-align: right;\n",
       "    }\n",
       "</style>\n",
       "<table border=\"1\" class=\"dataframe\">\n",
       "  <thead>\n",
       "    <tr style=\"text-align: right;\">\n",
       "      <th></th>\n",
       "      <th>x1</th>\n",
       "      <th>y1</th>\n",
       "      <th>x2</th>\n",
       "      <th>y2</th>\n",
       "      <th>x3</th>\n",
       "      <th>y3</th>\n",
       "      <th>x4</th>\n",
       "      <th>y4</th>\n",
       "      <th>x5</th>\n",
       "      <th>y5</th>\n",
       "      <th>...</th>\n",
       "      <th>y29</th>\n",
       "      <th>x30</th>\n",
       "      <th>y30</th>\n",
       "      <th>x31</th>\n",
       "      <th>y31</th>\n",
       "      <th>x32</th>\n",
       "      <th>y32</th>\n",
       "      <th>x33</th>\n",
       "      <th>y33</th>\n",
       "      <th>Class</th>\n",
       "    </tr>\n",
       "  </thead>\n",
       "  <tbody>\n",
       "    <tr>\n",
       "      <th>0</th>\n",
       "      <td>0.348429</td>\n",
       "      <td>0.607127</td>\n",
       "      <td>0.358834</td>\n",
       "      <td>0.603950</td>\n",
       "      <td>0.359749</td>\n",
       "      <td>0.601745</td>\n",
       "      <td>0.360963</td>\n",
       "      <td>0.599474</td>\n",
       "      <td>0.359650</td>\n",
       "      <td>0.602220</td>\n",
       "      <td>...</td>\n",
       "      <td>0.661362</td>\n",
       "      <td>0.022053</td>\n",
       "      <td>0.651869</td>\n",
       "      <td>0.008426</td>\n",
       "      <td>0.681311</td>\n",
       "      <td>0.081672</td>\n",
       "      <td>0.708391</td>\n",
       "      <td>0.067105</td>\n",
       "      <td>0.729975</td>\n",
       "      <td>Downdog</td>\n",
       "    </tr>\n",
       "    <tr>\n",
       "      <th>1</th>\n",
       "      <td>0.470117</td>\n",
       "      <td>0.526725</td>\n",
       "      <td>0.492140</td>\n",
       "      <td>0.541038</td>\n",
       "      <td>0.501595</td>\n",
       "      <td>0.538803</td>\n",
       "      <td>0.510996</td>\n",
       "      <td>0.536353</td>\n",
       "      <td>0.465476</td>\n",
       "      <td>0.543988</td>\n",
       "      <td>...</td>\n",
       "      <td>0.387913</td>\n",
       "      <td>0.484901</td>\n",
       "      <td>0.385771</td>\n",
       "      <td>0.235024</td>\n",
       "      <td>0.388868</td>\n",
       "      <td>0.499485</td>\n",
       "      <td>0.471794</td>\n",
       "      <td>0.234441</td>\n",
       "      <td>0.467935</td>\n",
       "      <td>Downdog</td>\n",
       "    </tr>\n",
       "    <tr>\n",
       "      <th>2</th>\n",
       "      <td>0.434726</td>\n",
       "      <td>0.690594</td>\n",
       "      <td>0.414310</td>\n",
       "      <td>0.710402</td>\n",
       "      <td>0.411133</td>\n",
       "      <td>0.708804</td>\n",
       "      <td>0.407927</td>\n",
       "      <td>0.706974</td>\n",
       "      <td>0.415032</td>\n",
       "      <td>0.711396</td>\n",
       "      <td>...</td>\n",
       "      <td>0.747058</td>\n",
       "      <td>0.922352</td>\n",
       "      <td>0.818769</td>\n",
       "      <td>0.905447</td>\n",
       "      <td>0.802343</td>\n",
       "      <td>0.810397</td>\n",
       "      <td>0.873039</td>\n",
       "      <td>0.789424</td>\n",
       "      <td>0.843384</td>\n",
       "      <td>Downdog</td>\n",
       "    </tr>\n",
       "    <tr>\n",
       "      <th>3</th>\n",
       "      <td>0.476755</td>\n",
       "      <td>0.702076</td>\n",
       "      <td>0.472901</td>\n",
       "      <td>0.689650</td>\n",
       "      <td>0.474232</td>\n",
       "      <td>0.686955</td>\n",
       "      <td>0.475628</td>\n",
       "      <td>0.683643</td>\n",
       "      <td>0.471884</td>\n",
       "      <td>0.690786</td>\n",
       "      <td>...</td>\n",
       "      <td>0.728324</td>\n",
       "      <td>0.851533</td>\n",
       "      <td>0.771610</td>\n",
       "      <td>0.827237</td>\n",
       "      <td>0.749827</td>\n",
       "      <td>0.815361</td>\n",
       "      <td>0.819688</td>\n",
       "      <td>0.795740</td>\n",
       "      <td>0.796176</td>\n",
       "      <td>Downdog</td>\n",
       "    </tr>\n",
       "    <tr>\n",
       "      <th>4</th>\n",
       "      <td>0.447445</td>\n",
       "      <td>0.775211</td>\n",
       "      <td>0.437780</td>\n",
       "      <td>0.782840</td>\n",
       "      <td>0.435813</td>\n",
       "      <td>0.781855</td>\n",
       "      <td>0.433856</td>\n",
       "      <td>0.780995</td>\n",
       "      <td>0.440893</td>\n",
       "      <td>0.783878</td>\n",
       "      <td>...</td>\n",
       "      <td>0.824289</td>\n",
       "      <td>0.731231</td>\n",
       "      <td>0.869701</td>\n",
       "      <td>0.718407</td>\n",
       "      <td>0.856146</td>\n",
       "      <td>0.665654</td>\n",
       "      <td>0.885232</td>\n",
       "      <td>0.657450</td>\n",
       "      <td>0.875800</td>\n",
       "      <td>Downdog</td>\n",
       "    </tr>\n",
       "  </tbody>\n",
       "</table>\n",
       "<p>5 rows × 67 columns</p>\n",
       "</div>"
      ],
      "text/plain": [
       "         x1        y1        x2        y2        x3        y3        x4  \\\n",
       "0  0.348429  0.607127  0.358834  0.603950  0.359749  0.601745  0.360963   \n",
       "1  0.470117  0.526725  0.492140  0.541038  0.501595  0.538803  0.510996   \n",
       "2  0.434726  0.690594  0.414310  0.710402  0.411133  0.708804  0.407927   \n",
       "3  0.476755  0.702076  0.472901  0.689650  0.474232  0.686955  0.475628   \n",
       "4  0.447445  0.775211  0.437780  0.782840  0.435813  0.781855  0.433856   \n",
       "\n",
       "         y4        x5        y5  ...       y29       x30       y30       x31  \\\n",
       "0  0.599474  0.359650  0.602220  ...  0.661362  0.022053  0.651869  0.008426   \n",
       "1  0.536353  0.465476  0.543988  ...  0.387913  0.484901  0.385771  0.235024   \n",
       "2  0.706974  0.415032  0.711396  ...  0.747058  0.922352  0.818769  0.905447   \n",
       "3  0.683643  0.471884  0.690786  ...  0.728324  0.851533  0.771610  0.827237   \n",
       "4  0.780995  0.440893  0.783878  ...  0.824289  0.731231  0.869701  0.718407   \n",
       "\n",
       "        y31       x32       y32       x33       y33    Class  \n",
       "0  0.681311  0.081672  0.708391  0.067105  0.729975  Downdog  \n",
       "1  0.388868  0.499485  0.471794  0.234441  0.467935  Downdog  \n",
       "2  0.802343  0.810397  0.873039  0.789424  0.843384  Downdog  \n",
       "3  0.749827  0.815361  0.819688  0.795740  0.796176  Downdog  \n",
       "4  0.856146  0.665654  0.885232  0.657450  0.875800  Downdog  \n",
       "\n",
       "[5 rows x 67 columns]"
      ]
     },
     "execution_count": 20,
     "metadata": {},
     "output_type": "execute_result"
    }
   ],
   "source": [
    "new_df =X_resampled.join(y_resampled)\n",
    "new_df.head()"
   ]
  },
  {
   "cell_type": "code",
   "execution_count": 21,
   "id": "a41e54c6",
   "metadata": {},
   "outputs": [
    {
     "name": "stderr",
     "output_type": "stream",
     "text": [
      "/usr/local/Cellar/jupyterlab/3.1.14/libexec/lib/python3.9/site-packages/seaborn/axisgrid.py:337: UserWarning: The `size` parameter has been renamed to `height`; please update your code.\n",
      "  warnings.warn(msg, UserWarning)\n"
     ]
    },
    {
     "data": {
      "image/png": "[encoded data removed]",
      "text/plain": [
       "<Figure size 443x360 with 1 Axes>"
      ]
     },
     "metadata": {
      "needs_background": "light"
     },
     "output_type": "display_data"
    }
   ],
   "source": [
    "import seaborn as sns\n",
    "sns.FacetGrid(new_df, hue=\"Class\", size=5) \\\n",
    "   .map(plt.scatter, \"x1\", \"y1\") \\\n",
    "   .add_legend()\n",
    "plt.show()"
   ]
  },
  {
   "cell_type": "markdown",
   "id": "0295bd86",
   "metadata": {},
   "source": [
    "# Train test split"
   ]
  },
  {
   "cell_type": "code",
   "execution_count": 22,
   "id": "987b2e33",
   "metadata": {},
   "outputs": [
    {
     "name": "stdout",
     "output_type": "stream",
     "text": [
      "(173, 66)\n",
      "(75, 66)\n",
      "(173,)\n",
      "(75,)\n"
     ]
    }
   ],
   "source": [
    "X_train, X_test, y_train, y_test = train_test_split(X_resampled, y_resampled, test_size=0.3, random_state=1234)\n",
    "print(X_train.shape)\n",
    "print(X_test.shape)\n",
    "print(y_train.shape)\n",
    "print(y_test.shape)"
   ]
  },
  {
   "cell_type": "code",
   "execution_count": 23,
   "id": "24c8e4af",
   "metadata": {},
   "outputs": [
    {
     "data": {
      "text/plain": [
       "200    warrior2\n",
       "94      goddess\n",
       "31      Downdog\n",
       "244    warrior2\n",
       "213    warrior2\n",
       "         ...   \n",
       "184        tree\n",
       "138        tree\n",
       "229    warrior2\n",
       "22      Downdog\n",
       "147        tree\n",
       "Name: Class, Length: 75, dtype: object"
      ]
     },
     "execution_count": 23,
     "metadata": {},
     "output_type": "execute_result"
    }
   ],
   "source": [
    "y_test"
   ]
  },
  {
   "cell_type": "markdown",
   "id": "718331df",
   "metadata": {},
   "source": [
    "# Normalisation"
   ]
  },
  {
   "cell_type": "code",
   "execution_count": 59,
   "id": "5ff570ac",
   "metadata": {},
   "outputs": [
    {
     "ename": "SyntaxError",
     "evalue": "invalid syntax (2690882658.py, line 4)",
     "output_type": "error",
     "traceback": [
      "\u001b[0;36m  File \u001b[0;32m\"/var/folders/6r/pshzd_g91x507c9clx9pdgyh0000gn/T/ipykernel_2216/2690882658.py\"\u001b[0;36m, line \u001b[0;32m4\u001b[0m\n\u001b[0;31m    return(df_min_max_scaled[column] = (df_min_max_scaled[column] - df_min_max_scaled[column].min()) / (df_min_max_scaled[column].max() - df_min_max_scaled[column].min()))\u001b[0m\n\u001b[0m                                     ^\u001b[0m\n\u001b[0;31mSyntaxError\u001b[0m\u001b[0;31m:\u001b[0m invalid syntax\n"
     ]
    }
   ],
   "source": [
    "#define a dunction to normalize the data set\n",
    "df_min_max_scaled = new_df.copy()\n",
    "def norm(x):\n",
    "    return(df_min_max_scaled[column] = (df_min_max_scaled[column] - df_min_max_scaled[column].min()) / (df_min_max_scaled[column].max() - df_min_max_scaled[column].min()))    \n",
    "  \n",
    "normed_X_train = norm(X_train)\n",
    "normed_X_test = norm(X_test)"
   ]
  },
  {
   "cell_type": "code",
   "execution_count": 61,
   "id": "d32a8307",
   "metadata": {
    "collapsed": true
   },
   "outputs": [
    {
     "ename": "TypeError",
     "evalue": "unsupported operand type(s) for -: 'str' and 'str'",
     "output_type": "error",
     "traceback": [
      "\u001b[0;31m---------------------------------------------------------------------------\u001b[0m",
      "\u001b[0;31mTypeError\u001b[0m                                 Traceback (most recent call last)",
      "\u001b[0;32m/usr/local/lib/python3.9/site-packages/pandas/core/ops/array_ops.py\u001b[0m in \u001b[0;36m_na_arithmetic_op\u001b[0;34m(left, right, op, is_cmp)\u001b[0m\n\u001b[1;32m    165\u001b[0m     \u001b[0;32mtry\u001b[0m\u001b[0;34m:\u001b[0m\u001b[0;34m\u001b[0m\u001b[0;34m\u001b[0m\u001b[0m\n\u001b[0;32m--> 166\u001b[0;31m         \u001b[0mresult\u001b[0m \u001b[0;34m=\u001b[0m \u001b[0mfunc\u001b[0m\u001b[0;34m(\u001b[0m\u001b[0mleft\u001b[0m\u001b[0;34m,\u001b[0m \u001b[0mright\u001b[0m\u001b[0;34m)\u001b[0m\u001b[0;34m\u001b[0m\u001b[0;34m\u001b[0m\u001b[0m\n\u001b[0m\u001b[1;32m    167\u001b[0m     \u001b[0;32mexcept\u001b[0m \u001b[0mTypeError\u001b[0m\u001b[0;34m:\u001b[0m\u001b[0;34m\u001b[0m\u001b[0;34m\u001b[0m\u001b[0m\n",
      "\u001b[0;31mTypeError\u001b[0m: unsupported operand type(s) for -: 'str' and 'str'",
      "\nDuring handling of the above exception, another exception occurred:\n",
      "\u001b[0;31mTypeError\u001b[0m                                 Traceback (most recent call last)",
      "\u001b[0;32m/var/folders/6r/pshzd_g91x507c9clx9pdgyh0000gn/T/ipykernel_2216/3328157115.py\u001b[0m in \u001b[0;36m<module>\u001b[0;34m\u001b[0m\n\u001b[1;32m      4\u001b[0m \u001b[0;31m# apply normalization techniques\u001b[0m\u001b[0;34m\u001b[0m\u001b[0;34m\u001b[0m\u001b[0m\n\u001b[1;32m      5\u001b[0m \u001b[0;32mfor\u001b[0m \u001b[0mcolumn\u001b[0m \u001b[0;32min\u001b[0m \u001b[0mdf_min_max_scaled\u001b[0m\u001b[0;34m.\u001b[0m\u001b[0mcolumns\u001b[0m\u001b[0;34m:\u001b[0m\u001b[0;34m\u001b[0m\u001b[0;34m\u001b[0m\u001b[0m\n\u001b[0;32m----> 6\u001b[0;31m     \u001b[0mdf_min_max_scaled\u001b[0m\u001b[0;34m[\u001b[0m\u001b[0mcolumn\u001b[0m\u001b[0;34m]\u001b[0m \u001b[0;34m=\u001b[0m \u001b[0;34m(\u001b[0m\u001b[0mdf_min_max_scaled\u001b[0m\u001b[0;34m[\u001b[0m\u001b[0mcolumn\u001b[0m\u001b[0;34m]\u001b[0m \u001b[0;34m-\u001b[0m \u001b[0mdf_min_max_scaled\u001b[0m\u001b[0;34m[\u001b[0m\u001b[0mcolumn\u001b[0m\u001b[0;34m]\u001b[0m\u001b[0;34m.\u001b[0m\u001b[0mmin\u001b[0m\u001b[0;34m(\u001b[0m\u001b[0;34m)\u001b[0m\u001b[0;34m)\u001b[0m \u001b[0;34m/\u001b[0m \u001b[0;34m(\u001b[0m\u001b[0mdf_min_max_scaled\u001b[0m\u001b[0;34m[\u001b[0m\u001b[0mcolumn\u001b[0m\u001b[0;34m]\u001b[0m\u001b[0;34m.\u001b[0m\u001b[0mmax\u001b[0m\u001b[0;34m(\u001b[0m\u001b[0;34m)\u001b[0m \u001b[0;34m-\u001b[0m \u001b[0mdf_min_max_scaled\u001b[0m\u001b[0;34m[\u001b[0m\u001b[0mcolumn\u001b[0m\u001b[0;34m]\u001b[0m\u001b[0;34m.\u001b[0m\u001b[0mmin\u001b[0m\u001b[0;34m(\u001b[0m\u001b[0;34m)\u001b[0m\u001b[0;34m)\u001b[0m\u001b[0;34m\u001b[0m\u001b[0;34m\u001b[0m\u001b[0m\n\u001b[0m\u001b[1;32m      7\u001b[0m \u001b[0mprint\u001b[0m\u001b[0;34m(\u001b[0m\u001b[0mdf_min_max_scaled\u001b[0m\u001b[0;34m)\u001b[0m\u001b[0;34m\u001b[0m\u001b[0;34m\u001b[0m\u001b[0m\n",
      "\u001b[0;32m/usr/local/lib/python3.9/site-packages/pandas/core/ops/common.py\u001b[0m in \u001b[0;36mnew_method\u001b[0;34m(self, other)\u001b[0m\n\u001b[1;32m     67\u001b[0m         \u001b[0mother\u001b[0m \u001b[0;34m=\u001b[0m \u001b[0mitem_from_zerodim\u001b[0m\u001b[0;34m(\u001b[0m\u001b[0mother\u001b[0m\u001b[0;34m)\u001b[0m\u001b[0;34m\u001b[0m\u001b[0;34m\u001b[0m\u001b[0m\n\u001b[1;32m     68\u001b[0m \u001b[0;34m\u001b[0m\u001b[0m\n\u001b[0;32m---> 69\u001b[0;31m         \u001b[0;32mreturn\u001b[0m \u001b[0mmethod\u001b[0m\u001b[0;34m(\u001b[0m\u001b[0mself\u001b[0m\u001b[0;34m,\u001b[0m \u001b[0mother\u001b[0m\u001b[0;34m)\u001b[0m\u001b[0;34m\u001b[0m\u001b[0;34m\u001b[0m\u001b[0m\n\u001b[0m\u001b[1;32m     70\u001b[0m \u001b[0;34m\u001b[0m\u001b[0m\n\u001b[1;32m     71\u001b[0m     \u001b[0;32mreturn\u001b[0m \u001b[0mnew_method\u001b[0m\u001b[0;34m\u001b[0m\u001b[0;34m\u001b[0m\u001b[0m\n",
      "\u001b[0;32m/usr/local/lib/python3.9/site-packages/pandas/core/arraylike.py\u001b[0m in \u001b[0;36m__sub__\u001b[0;34m(self, other)\u001b[0m\n\u001b[1;32m     98\u001b[0m     \u001b[0;34m@\u001b[0m\u001b[0munpack_zerodim_and_defer\u001b[0m\u001b[0;34m(\u001b[0m\u001b[0;34m\"__sub__\"\u001b[0m\u001b[0;34m)\u001b[0m\u001b[0;34m\u001b[0m\u001b[0;34m\u001b[0m\u001b[0m\n\u001b[1;32m     99\u001b[0m     \u001b[0;32mdef\u001b[0m \u001b[0m__sub__\u001b[0m\u001b[0;34m(\u001b[0m\u001b[0mself\u001b[0m\u001b[0;34m,\u001b[0m \u001b[0mother\u001b[0m\u001b[0;34m)\u001b[0m\u001b[0;34m:\u001b[0m\u001b[0;34m\u001b[0m\u001b[0;34m\u001b[0m\u001b[0m\n\u001b[0;32m--> 100\u001b[0;31m         \u001b[0;32mreturn\u001b[0m \u001b[0mself\u001b[0m\u001b[0;34m.\u001b[0m\u001b[0m_arith_method\u001b[0m\u001b[0;34m(\u001b[0m\u001b[0mother\u001b[0m\u001b[0;34m,\u001b[0m \u001b[0moperator\u001b[0m\u001b[0;34m.\u001b[0m\u001b[0msub\u001b[0m\u001b[0;34m)\u001b[0m\u001b[0;34m\u001b[0m\u001b[0;34m\u001b[0m\u001b[0m\n\u001b[0m\u001b[1;32m    101\u001b[0m \u001b[0;34m\u001b[0m\u001b[0m\n\u001b[1;32m    102\u001b[0m     \u001b[0;34m@\u001b[0m\u001b[0munpack_zerodim_and_defer\u001b[0m\u001b[0;34m(\u001b[0m\u001b[0;34m\"__rsub__\"\u001b[0m\u001b[0;34m)\u001b[0m\u001b[0;34m\u001b[0m\u001b[0;34m\u001b[0m\u001b[0m\n",
      "\u001b[0;32m/usr/local/lib/python3.9/site-packages/pandas/core/series.py\u001b[0m in \u001b[0;36m_arith_method\u001b[0;34m(self, other, op)\u001b[0m\n\u001b[1;32m   5524\u001b[0m \u001b[0;34m\u001b[0m\u001b[0m\n\u001b[1;32m   5525\u001b[0m         \u001b[0;32mwith\u001b[0m \u001b[0mnp\u001b[0m\u001b[0;34m.\u001b[0m\u001b[0merrstate\u001b[0m\u001b[0;34m(\u001b[0m\u001b[0mall\u001b[0m\u001b[0;34m=\u001b[0m\u001b[0;34m\"ignore\"\u001b[0m\u001b[0;34m)\u001b[0m\u001b[0;34m:\u001b[0m\u001b[0;34m\u001b[0m\u001b[0;34m\u001b[0m\u001b[0m\n\u001b[0;32m-> 5526\u001b[0;31m             \u001b[0mresult\u001b[0m \u001b[0;34m=\u001b[0m \u001b[0mops\u001b[0m\u001b[0;34m.\u001b[0m\u001b[0marithmetic_op\u001b[0m\u001b[0;34m(\u001b[0m\u001b[0mlvalues\u001b[0m\u001b[0;34m,\u001b[0m \u001b[0mrvalues\u001b[0m\u001b[0;34m,\u001b[0m \u001b[0mop\u001b[0m\u001b[0;34m)\u001b[0m\u001b[0;34m\u001b[0m\u001b[0;34m\u001b[0m\u001b[0m\n\u001b[0m\u001b[1;32m   5527\u001b[0m \u001b[0;34m\u001b[0m\u001b[0m\n\u001b[1;32m   5528\u001b[0m         \u001b[0;32mreturn\u001b[0m \u001b[0mself\u001b[0m\u001b[0;34m.\u001b[0m\u001b[0m_construct_result\u001b[0m\u001b[0;34m(\u001b[0m\u001b[0mresult\u001b[0m\u001b[0;34m,\u001b[0m \u001b[0mname\u001b[0m\u001b[0;34m=\u001b[0m\u001b[0mres_name\u001b[0m\u001b[0;34m)\u001b[0m\u001b[0;34m\u001b[0m\u001b[0;34m\u001b[0m\u001b[0m\n",
      "\u001b[0;32m/usr/local/lib/python3.9/site-packages/pandas/core/ops/array_ops.py\u001b[0m in \u001b[0;36marithmetic_op\u001b[0;34m(left, right, op)\u001b[0m\n\u001b[1;32m    222\u001b[0m         \u001b[0m_bool_arith_check\u001b[0m\u001b[0;34m(\u001b[0m\u001b[0mop\u001b[0m\u001b[0;34m,\u001b[0m \u001b[0mleft\u001b[0m\u001b[0;34m,\u001b[0m \u001b[0mright\u001b[0m\u001b[0;34m)\u001b[0m\u001b[0;34m\u001b[0m\u001b[0;34m\u001b[0m\u001b[0m\n\u001b[1;32m    223\u001b[0m \u001b[0;34m\u001b[0m\u001b[0m\n\u001b[0;32m--> 224\u001b[0;31m         \u001b[0mres_values\u001b[0m \u001b[0;34m=\u001b[0m \u001b[0m_na_arithmetic_op\u001b[0m\u001b[0;34m(\u001b[0m\u001b[0mleft\u001b[0m\u001b[0;34m,\u001b[0m \u001b[0mright\u001b[0m\u001b[0;34m,\u001b[0m \u001b[0mop\u001b[0m\u001b[0;34m)\u001b[0m\u001b[0;34m\u001b[0m\u001b[0;34m\u001b[0m\u001b[0m\n\u001b[0m\u001b[1;32m    225\u001b[0m \u001b[0;34m\u001b[0m\u001b[0m\n\u001b[1;32m    226\u001b[0m     \u001b[0;32mreturn\u001b[0m \u001b[0mres_values\u001b[0m\u001b[0;34m\u001b[0m\u001b[0;34m\u001b[0m\u001b[0m\n",
      "\u001b[0;32m/usr/local/lib/python3.9/site-packages/pandas/core/ops/array_ops.py\u001b[0m in \u001b[0;36m_na_arithmetic_op\u001b[0;34m(left, right, op, is_cmp)\u001b[0m\n\u001b[1;32m    171\u001b[0m             \u001b[0;31m# Don't do this for comparisons, as that will handle complex numbers\u001b[0m\u001b[0;34m\u001b[0m\u001b[0;34m\u001b[0m\u001b[0m\n\u001b[1;32m    172\u001b[0m             \u001b[0;31m#  incorrectly, see GH#32047\u001b[0m\u001b[0;34m\u001b[0m\u001b[0;34m\u001b[0m\u001b[0m\n\u001b[0;32m--> 173\u001b[0;31m             \u001b[0mresult\u001b[0m \u001b[0;34m=\u001b[0m \u001b[0m_masked_arith_op\u001b[0m\u001b[0;34m(\u001b[0m\u001b[0mleft\u001b[0m\u001b[0;34m,\u001b[0m \u001b[0mright\u001b[0m\u001b[0;34m,\u001b[0m \u001b[0mop\u001b[0m\u001b[0;34m)\u001b[0m\u001b[0;34m\u001b[0m\u001b[0;34m\u001b[0m\u001b[0m\n\u001b[0m\u001b[1;32m    174\u001b[0m         \u001b[0;32melse\u001b[0m\u001b[0;34m:\u001b[0m\u001b[0;34m\u001b[0m\u001b[0;34m\u001b[0m\u001b[0m\n\u001b[1;32m    175\u001b[0m             \u001b[0;32mraise\u001b[0m\u001b[0;34m\u001b[0m\u001b[0;34m\u001b[0m\u001b[0m\n",
      "\u001b[0;32m/usr/local/lib/python3.9/site-packages/pandas/core/ops/array_ops.py\u001b[0m in \u001b[0;36m_masked_arith_op\u001b[0;34m(x, y, op)\u001b[0m\n\u001b[1;32m    129\u001b[0m \u001b[0;34m\u001b[0m\u001b[0m\n\u001b[1;32m    130\u001b[0m         \u001b[0;32mif\u001b[0m \u001b[0mmask\u001b[0m\u001b[0;34m.\u001b[0m\u001b[0many\u001b[0m\u001b[0;34m(\u001b[0m\u001b[0;34m)\u001b[0m\u001b[0;34m:\u001b[0m\u001b[0;34m\u001b[0m\u001b[0;34m\u001b[0m\u001b[0m\n\u001b[0;32m--> 131\u001b[0;31m             \u001b[0mresult\u001b[0m\u001b[0;34m[\u001b[0m\u001b[0mmask\u001b[0m\u001b[0;34m]\u001b[0m \u001b[0;34m=\u001b[0m \u001b[0mop\u001b[0m\u001b[0;34m(\u001b[0m\u001b[0mxrav\u001b[0m\u001b[0;34m[\u001b[0m\u001b[0mmask\u001b[0m\u001b[0;34m]\u001b[0m\u001b[0;34m,\u001b[0m \u001b[0my\u001b[0m\u001b[0;34m)\u001b[0m\u001b[0;34m\u001b[0m\u001b[0;34m\u001b[0m\u001b[0m\n\u001b[0m\u001b[1;32m    132\u001b[0m \u001b[0;34m\u001b[0m\u001b[0m\n\u001b[1;32m    133\u001b[0m     \u001b[0mnp\u001b[0m\u001b[0;34m.\u001b[0m\u001b[0mputmask\u001b[0m\u001b[0;34m(\u001b[0m\u001b[0mresult\u001b[0m\u001b[0;34m,\u001b[0m \u001b[0;34m~\u001b[0m\u001b[0mmask\u001b[0m\u001b[0;34m,\u001b[0m \u001b[0mnp\u001b[0m\u001b[0;34m.\u001b[0m\u001b[0mnan\u001b[0m\u001b[0;34m)\u001b[0m\u001b[0;34m\u001b[0m\u001b[0;34m\u001b[0m\u001b[0m\n",
      "\u001b[0;31mTypeError\u001b[0m: unsupported operand type(s) for -: 'str' and 'str'"
     ]
    }
   ],
   "source": [
    "# copy the data\n",
    "df_min_max_scaled = new_df.copy()\n",
    "  \n",
    "# apply normalization techniques\n",
    "for column in df_min_max_scaled.columns:\n",
    "    df_min_max_scaled[column] = (df_min_max_scaled[column] - df_min_max_scaled[column].min()) / (df_min_max_scaled[column].max() - df_min_max_scaled[column].min())    \n",
    "print(df_min_max_scaled)"
   ]
  },
  {
   "cell_type": "code",
   "execution_count": 24,
   "id": "88e00c71",
   "metadata": {},
   "outputs": [],
   "source": [
    "#https://stackoverflow.com/questions/49444262/normalize-data-before-or-after-split-of-training-and-testing-data\n",
    "from sklearn import preprocessing \n",
    "Xtrain = X_train.copy()\n",
    "Xtest = X_test.copy()\n",
    "\n",
    "normalizer = preprocessing.Normalizer()\n",
    "normalized_X_train = normalizer.fit_transform(Xtrain)\n",
    "normalized_X_test = normalizer.fit_transform(Xtest)"
   ]
  },
  {
   "cell_type": "markdown",
   "id": "bb0ba3f6",
   "metadata": {},
   "source": [
    "## 2.2 Train ML Classification Model"
   ]
  },
  {
   "cell_type": "code",
   "execution_count": 25,
   "id": "ed0cfb1d",
   "metadata": {},
   "outputs": [],
   "source": [
    "from sklearn.pipeline import make_pipeline \n",
    "from sklearn.preprocessing import StandardScaler \n",
    "\n",
    "from sklearn.neighbors import KNeighborsClassifier\n",
    "from sklearn.svm import SVC\n",
    "from sklearn.tree import DecisionTreeClassifier\n",
    "from sklearn.ensemble import RandomForestClassifier\n",
    "\n",
    "#from sklearn.linear_model import LogisticRegression, RidgeClassifier\n",
    "#from sklearn.ensemble import RandomForestClassifier, GradientBoostingClassifier\n",
    "#from sklearn import svm\n",
    "\n",
    "from sklearn.preprocessing import StandardScaler"
   ]
  },
  {
   "cell_type": "code",
   "execution_count": 26,
   "id": "9e4584de",
   "metadata": {},
   "outputs": [],
   "source": [
    "pipelines = {\n",
    "   # 'lr':make_pipeline(StandardScaler(), LogisticRegression()),\n",
    "   # 'rc':make_pipeline(StandardScaler(), RidgeClassifier()),\n",
    "   # 'gb':make_pipeline(StandardScaler(), GradientBoostingClassifier()),\n",
    "   # \"Naive Bayes\": GaussianNB(),\n",
    "    \"KNearest\": make_pipeline(StandardScaler(), KNeighborsClassifier()),\n",
    "    \"DecisionTreeClassifier\": make_pipeline(StandardScaler(), DecisionTreeClassifier()),\n",
    "    'rf':make_pipeline(StandardScaler(), RandomForestClassifier()),\n",
    "    'svc':make_pipeline(StandardScaler(),SVC(kernel='rbf'))\n",
    "}"
   ]
  },
  {
   "cell_type": "code",
   "execution_count": 27,
   "id": "cb73d1d7",
   "metadata": {},
   "outputs": [],
   "source": [
    "fit_models = {}\n",
    "for algo, pipeline in pipelines.items():\n",
    "    model = pipeline.fit(normalized_X_train, y_train)\n",
    "    fit_models[algo] = model"
   ]
  },
  {
   "cell_type": "code",
   "execution_count": 28,
   "id": "3492ffb7",
   "metadata": {},
   "outputs": [
    {
     "data": {
      "text/plain": [
       "{'KNearest': Pipeline(steps=[('standardscaler', StandardScaler()),\n",
       "                 ('kneighborsclassifier', KNeighborsClassifier())]),\n",
       " 'DecisionTreeClassifier': Pipeline(steps=[('standardscaler', StandardScaler()),\n",
       "                 ('decisiontreeclassifier', DecisionTreeClassifier())]),\n",
       " 'rf': Pipeline(steps=[('standardscaler', StandardScaler()),\n",
       "                 ('randomforestclassifier', RandomForestClassifier())]),\n",
       " 'svc': Pipeline(steps=[('standardscaler', StandardScaler()), ('svc', SVC())])}"
      ]
     },
     "execution_count": 28,
     "metadata": {},
     "output_type": "execute_result"
    }
   ],
   "source": [
    "fit_models"
   ]
  },
  {
   "cell_type": "code",
   "execution_count": 29,
   "id": "83200ef5",
   "metadata": {},
   "outputs": [
    {
     "data": {
      "text/plain": [
       "array(['warrior2', 'goddess', 'Downdog', 'warrior2', 'warrior2',\n",
       "       'Downdog', 'warrior2', 'goddess', 'tree', 'Downdog', 'tree',\n",
       "       'goddess', 'tree', 'goddess', 'goddess', 'tree', 'Downdog', 'tree',\n",
       "       'Downdog', 'goddess', 'tree', 'warrior2', 'Downdog', 'goddess',\n",
       "       'Downdog', 'tree', 'goddess', 'goddess', 'Downdog', 'tree',\n",
       "       'Downdog', 'tree', 'tree', 'warrior2', 'tree', 'tree', 'warrior2',\n",
       "       'goddess', 'goddess', 'warrior2', 'Downdog', 'tree', 'tree',\n",
       "       'Downdog', 'goddess', 'tree', 'goddess', 'warrior2', 'goddess',\n",
       "       'Downdog', 'Downdog', 'goddess', 'warrior2', 'tree', 'goddess',\n",
       "       'Downdog', 'goddess', 'warrior2', 'warrior2', 'warrior2',\n",
       "       'goddess', 'warrior2', 'goddess', 'tree', 'Downdog', 'goddess',\n",
       "       'tree', 'Downdog', 'Downdog', 'warrior2', 'tree', 'tree',\n",
       "       'warrior2', 'Downdog', 'goddess'], dtype=object)"
      ]
     },
     "execution_count": 29,
     "metadata": {},
     "output_type": "execute_result"
    }
   ],
   "source": [
    "fit_models['svc'].predict(normalized_X_test) #test to see if it works"
   ]
  },
  {
   "cell_type": "markdown",
   "id": "6218657b",
   "metadata": {},
   "source": [
    "## 2.3 Evaluate and serial model"
   ]
  },
  {
   "cell_type": "code",
   "execution_count": 30,
   "id": "d90d3c81",
   "metadata": {},
   "outputs": [],
   "source": [
    "from sklearn.metrics import accuracy_score # Accuracy metrics \n",
    "import pickle"
   ]
  },
  {
   "cell_type": "code",
   "execution_count": 31,
   "id": "1089d407",
   "metadata": {},
   "outputs": [
    {
     "name": "stdout",
     "output_type": "stream",
     "text": [
      "KNearest 0.84\n",
      "DecisionTreeClassifier 0.76\n",
      "rf 0.88\n",
      "svc 0.8666666666666667\n"
     ]
    }
   ],
   "source": [
    "for algo, model in fit_models.items():\n",
    "    yhat = model.predict(normalized_X_test)\n",
    "    print(algo, accuracy_score(y_test, yhat))"
   ]
  },
  {
   "cell_type": "code",
   "execution_count": 32,
   "id": "fbfedbb2",
   "metadata": {},
   "outputs": [
    {
     "name": "stdout",
     "output_type": "stream",
     "text": [
      "KNearest [[17  1  0  0]\n",
      " [ 1 17  0  4]\n",
      " [ 0  2 18  1]\n",
      " [ 0  3  0 11]]\n",
      "DecisionTreeClassifier [[16  0  1  1]\n",
      " [ 0 17  1  4]\n",
      " [ 0  0 16  5]\n",
      " [ 0  6  0  8]]\n",
      "rf [[17  1  0  0]\n",
      " [ 1 17  0  4]\n",
      " [ 0  1 19  1]\n",
      " [ 0  1  0 13]]\n",
      "svc [[17  1  0  0]\n",
      " [ 1 17  1  3]\n",
      " [ 0  1 19  1]\n",
      " [ 0  2  0 12]]\n"
     ]
    },
    {
     "data": {
      "image/png": "[encoded data removed]",
      "text/plain": [
       "<Figure size 432x288 with 5 Axes>"
      ]
     },
     "metadata": {
      "needs_background": "light"
     },
     "output_type": "display_data"
    }
   ],
   "source": [
    "from sklearn.metrics import confusion_matrix\n",
    "\n",
    "ax=plt.subplot()\n",
    "\n",
    "for algo, model in fit_models.items():\n",
    "    yhat = model.predict(normalized_X_test)\n",
    "    confusionMatrix = confusion_matrix(y_test,yhat)\n",
    "    disp = ConfusionMatrixDisplay(cf_matrix)\n",
    "    display_labels=iris.target_names)\n",
    "    \n",
    "    print(algo,confusionMatrix)\n",
    "\n",
    "    \n",
    "for i in fit_models:\n",
    "\n",
    "    sns.heatmap(confusionMatrix, annot=True, ax = ax); #annot = True to annotate cells\n",
    "\n",
    "    #labels, title and ticks\n",
    "    ax.set_xlabel('Predictes labels'); ax.set_ylabel('True labels');\n",
    "    ax.set_title('Confusion Matrix');\n",
    "    #ax.xaxis.set_ticklabels(['Positive','Negative']); ax.yaxis.set_ticklabels(['Positive','Negative'])"
   ]
  },
  {
   "cell_type": "code",
   "execution_count": 33,
   "id": "1b504a2c",
   "metadata": {},
   "outputs": [
    {
     "ename": "ValueError",
     "evalue": "Classification metrics can't handle a mix of multiclass and continuous-multioutput targets",
     "output_type": "error",
     "traceback": [
      "\u001b[0;31m---------------------------------------------------------------------------\u001b[0m",
      "\u001b[0;31mValueError\u001b[0m                                Traceback (most recent call last)",
      "\u001b[0;32m/var/folders/6r/pshzd_g91x507c9clx9pdgyh0000gn/T/ipykernel_3194/3994083965.py\u001b[0m in \u001b[0;36m<module>\u001b[0;34m\u001b[0m\n\u001b[1;32m      4\u001b[0m \u001b[0;34m\u001b[0m\u001b[0m\n\u001b[1;32m      5\u001b[0m \u001b[0;32mfor\u001b[0m \u001b[0mi\u001b[0m\u001b[0;34m,\u001b[0m \u001b[0;34m(\u001b[0m\u001b[0mkey\u001b[0m\u001b[0;34m,\u001b[0m \u001b[0mfit_models\u001b[0m\u001b[0;34m)\u001b[0m \u001b[0;32min\u001b[0m \u001b[0menumerate\u001b[0m\u001b[0;34m(\u001b[0m\u001b[0mfit_models\u001b[0m\u001b[0;34m.\u001b[0m\u001b[0mitems\u001b[0m\u001b[0;34m(\u001b[0m\u001b[0;34m)\u001b[0m\u001b[0;34m)\u001b[0m\u001b[0;34m:\u001b[0m\u001b[0;34m\u001b[0m\u001b[0;34m\u001b[0m\u001b[0m\n\u001b[0;32m----> 6\u001b[0;31m     \u001b[0mcf_matrix\u001b[0m \u001b[0;34m=\u001b[0m \u001b[0mconfusion_matrix\u001b[0m\u001b[0;34m(\u001b[0m\u001b[0my_test\u001b[0m\u001b[0;34m,\u001b[0m \u001b[0mnormalized_X_test\u001b[0m\u001b[0;34m)\u001b[0m\u001b[0;34m\u001b[0m\u001b[0;34m\u001b[0m\u001b[0m\n\u001b[0m\u001b[1;32m      7\u001b[0m     \u001b[0mdisp\u001b[0m \u001b[0;34m=\u001b[0m \u001b[0mConfusionMatrixDisplay\u001b[0m\u001b[0;34m(\u001b[0m\u001b[0mcf_matrix\u001b[0m\u001b[0;34m)\u001b[0m\u001b[0;34m\u001b[0m\u001b[0;34m\u001b[0m\u001b[0m\n\u001b[1;32m      8\u001b[0m                                   \u001b[0;31m#display_labels=iris.target_names)\u001b[0m\u001b[0;34m\u001b[0m\u001b[0;34m\u001b[0m\u001b[0m\n",
      "\u001b[0;32m/usr/local/Cellar/jupyterlab/3.1.14/libexec/lib/python3.9/site-packages/sklearn/metrics/_classification.py\u001b[0m in \u001b[0;36mconfusion_matrix\u001b[0;34m(y_true, y_pred, labels, sample_weight, normalize)\u001b[0m\n\u001b[1;32m    305\u001b[0m     \u001b[0;34m(\u001b[0m\u001b[0;36m0\u001b[0m\u001b[0;34m,\u001b[0m \u001b[0;36m2\u001b[0m\u001b[0;34m,\u001b[0m \u001b[0;36m1\u001b[0m\u001b[0;34m,\u001b[0m \u001b[0;36m1\u001b[0m\u001b[0;34m)\u001b[0m\u001b[0;34m\u001b[0m\u001b[0;34m\u001b[0m\u001b[0m\n\u001b[1;32m    306\u001b[0m     \"\"\"\n\u001b[0;32m--> 307\u001b[0;31m     \u001b[0my_type\u001b[0m\u001b[0;34m,\u001b[0m \u001b[0my_true\u001b[0m\u001b[0;34m,\u001b[0m \u001b[0my_pred\u001b[0m \u001b[0;34m=\u001b[0m \u001b[0m_check_targets\u001b[0m\u001b[0;34m(\u001b[0m\u001b[0my_true\u001b[0m\u001b[0;34m,\u001b[0m \u001b[0my_pred\u001b[0m\u001b[0;34m)\u001b[0m\u001b[0;34m\u001b[0m\u001b[0;34m\u001b[0m\u001b[0m\n\u001b[0m\u001b[1;32m    308\u001b[0m     \u001b[0;32mif\u001b[0m \u001b[0my_type\u001b[0m \u001b[0;32mnot\u001b[0m \u001b[0;32min\u001b[0m \u001b[0;34m(\u001b[0m\u001b[0;34m\"binary\"\u001b[0m\u001b[0;34m,\u001b[0m \u001b[0;34m\"multiclass\"\u001b[0m\u001b[0;34m)\u001b[0m\u001b[0;34m:\u001b[0m\u001b[0;34m\u001b[0m\u001b[0;34m\u001b[0m\u001b[0m\n\u001b[1;32m    309\u001b[0m         \u001b[0;32mraise\u001b[0m \u001b[0mValueError\u001b[0m\u001b[0;34m(\u001b[0m\u001b[0;34m\"%s is not supported\"\u001b[0m \u001b[0;34m%\u001b[0m \u001b[0my_type\u001b[0m\u001b[0;34m)\u001b[0m\u001b[0;34m\u001b[0m\u001b[0;34m\u001b[0m\u001b[0m\n",
      "\u001b[0;32m/usr/local/Cellar/jupyterlab/3.1.14/libexec/lib/python3.9/site-packages/sklearn/metrics/_classification.py\u001b[0m in \u001b[0;36m_check_targets\u001b[0;34m(y_true, y_pred)\u001b[0m\n\u001b[1;32m     91\u001b[0m \u001b[0;34m\u001b[0m\u001b[0m\n\u001b[1;32m     92\u001b[0m     \u001b[0;32mif\u001b[0m \u001b[0mlen\u001b[0m\u001b[0;34m(\u001b[0m\u001b[0my_type\u001b[0m\u001b[0;34m)\u001b[0m \u001b[0;34m>\u001b[0m \u001b[0;36m1\u001b[0m\u001b[0;34m:\u001b[0m\u001b[0;34m\u001b[0m\u001b[0;34m\u001b[0m\u001b[0m\n\u001b[0;32m---> 93\u001b[0;31m         raise ValueError(\n\u001b[0m\u001b[1;32m     94\u001b[0m             \"Classification metrics can't handle a mix of {0} and {1} targets\".format(\n\u001b[1;32m     95\u001b[0m                 \u001b[0mtype_true\u001b[0m\u001b[0;34m,\u001b[0m \u001b[0mtype_pred\u001b[0m\u001b[0;34m\u001b[0m\u001b[0;34m\u001b[0m\u001b[0m\n",
      "\u001b[0;31mValueError\u001b[0m: Classification metrics can't handle a mix of multiclass and continuous-multioutput targets"
     ]
    },
    {
     "data": {
      "image/png": "[encoded data removed]",
      "text/plain": [
       "<Figure size 1440x360 with 5 Axes>"
      ]
     },
     "metadata": {
      "needs_background": "light"
     },
     "output_type": "display_data"
    }
   ],
   "source": [
    "from sklearn.metrics import confusion_matrix\n",
    "\n",
    "f, axes = plt.subplots(1, 5, figsize=(20, 5), sharey='row')\n",
    "\n",
    "for i, (key, fit_models) in enumerate(fit_models.items()):\n",
    "    cf_matrix = confusion_matrix(y_test, normalized_X_test)\n",
    "    disp = ConfusionMatrixDisplay(cf_matrix)\n",
    "                                  #display_labels=iris.target_names)\n",
    "\n",
    "f.text(0.4, 0.1, 'Predicted label', ha='left')\n",
    "plt.subplots_adjust(wspace=0.40, hspace=0.1)\n",
    "\n",
    "\n",
    "f.colorbar(disp.im_, ax=axes)\n",
    "plt.show()\n",
    "\n"
   ]
  },
  {
   "cell_type": "code",
   "execution_count": 30,
   "id": "b4833121",
   "metadata": {},
   "outputs": [
    {
     "data": {
      "text/plain": [
       "array(['warrior2', 'goddess', 'Downdog', 'warrior2', 'warrior2',\n",
       "       'Downdog', 'warrior2', 'goddess', 'tree', 'Downdog', 'tree',\n",
       "       'goddess', 'tree', 'goddess', 'goddess', 'warrior2', 'Downdog',\n",
       "       'tree', 'Downdog', 'goddess', 'tree', 'warrior2', 'Downdog',\n",
       "       'goddess', 'Downdog', 'tree', 'goddess', 'goddess', 'Downdog',\n",
       "       'tree', 'Downdog', 'tree', 'tree', 'warrior2', 'tree', 'tree',\n",
       "       'warrior2', 'goddess', 'goddess', 'warrior2', 'Downdog', 'tree',\n",
       "       'tree', 'Downdog', 'goddess', 'tree', 'goddess', 'warrior2',\n",
       "       'goddess', 'Downdog', 'Downdog', 'goddess', 'warrior2', 'tree',\n",
       "       'goddess', 'Downdog', 'goddess', 'warrior2', 'warrior2',\n",
       "       'warrior2', 'warrior2', 'warrior2', 'goddess', 'tree', 'Downdog',\n",
       "       'goddess', 'tree', 'Downdog', 'Downdog', 'warrior2', 'tree',\n",
       "       'tree', 'warrior2', 'Downdog', 'goddess'], dtype=object)"
      ]
     },
     "execution_count": 30,
     "metadata": {},
     "output_type": "execute_result"
    }
   ],
   "source": [
    "fit_models['rf'].predict(normalized_X_test)"
   ]
  },
  {
   "cell_type": "code",
   "execution_count": 31,
   "id": "c5638ee4",
   "metadata": {},
   "outputs": [
    {
     "data": {
      "text/plain": [
       "200    warrior2\n",
       "94      goddess\n",
       "31      Downdog\n",
       "244    warrior2\n",
       "213    warrior2\n",
       "         ...   \n",
       "184        tree\n",
       "138        tree\n",
       "229    warrior2\n",
       "22      Downdog\n",
       "147        tree\n",
       "Name: Class, Length: 75, dtype: object"
      ]
     },
     "execution_count": 31,
     "metadata": {},
     "output_type": "execute_result"
    }
   ],
   "source": [
    "y_test"
   ]
  },
  {
   "cell_type": "code",
   "execution_count": 32,
   "id": "98f5f3d1",
   "metadata": {},
   "outputs": [],
   "source": [
    "with open('body_language.pkl', 'wb') as f:\n",
    "    pickle.dump(fit_models['rf'], f)"
   ]
  },
  {
   "cell_type": "code",
   "execution_count": 33,
   "id": "8f68bd06",
   "metadata": {},
   "outputs": [],
   "source": [
    "with open('body_language.pkl', 'rb') as f:\n",
    "    model = pickle.load(f)"
   ]
  },
  {
   "cell_type": "code",
   "execution_count": 34,
   "id": "2993ead4",
   "metadata": {},
   "outputs": [
    {
     "data": {
      "text/plain": [
       "Pipeline(steps=[('standardscaler', StandardScaler()),\n",
       "                ('randomforestclassifier', RandomForestClassifier())])"
      ]
     },
     "execution_count": 34,
     "metadata": {},
     "output_type": "execute_result"
    }
   ],
   "source": [
    "model"
   ]
  },
  {
   "cell_type": "code",
   "execution_count": 3,
   "id": "ef33ca6d",
   "metadata": {},
   "outputs": [
    {
     "name": "stderr",
     "output_type": "stream",
     "text": [
      "INFO: Created TensorFlow Lite XNNPACK delegate for CPU.\n"
     ]
    },
    {
     "ename": "AttributeError",
     "evalue": "'google.protobuf.pyext._message.RepeatedCompositeCo' object has no attribute 'process'",
     "output_type": "error",
     "traceback": [
      "\u001b[0;31m---------------------------------------------------------------------------\u001b[0m",
      "\u001b[0;31mAttributeError\u001b[0m                            Traceback (most recent call last)",
      "\u001b[0;32m/var/folders/6r/pshzd_g91x507c9clx9pdgyh0000gn/T/ipykernel_1422/3324185948.py\u001b[0m in \u001b[0;36m<module>\u001b[0;34m\u001b[0m\n\u001b[1;32m     13\u001b[0m \u001b[0;34m\u001b[0m\u001b[0m\n\u001b[1;32m     14\u001b[0m         \u001b[0;31m# Make Detections\u001b[0m\u001b[0;34m\u001b[0m\u001b[0;34m\u001b[0m\u001b[0m\n\u001b[0;32m---> 15\u001b[0;31m         \u001b[0mresults\u001b[0m \u001b[0;34m=\u001b[0m \u001b[0mpose\u001b[0m\u001b[0;34m.\u001b[0m\u001b[0mprocess\u001b[0m\u001b[0;34m(\u001b[0m\u001b[0mimage\u001b[0m\u001b[0;34m)\u001b[0m\u001b[0;34m\u001b[0m\u001b[0;34m\u001b[0m\u001b[0m\n\u001b[0m\u001b[1;32m     16\u001b[0m         \u001b[0;31m# print(results.face_landmarks)\u001b[0m\u001b[0;34m\u001b[0m\u001b[0;34m\u001b[0m\u001b[0m\n\u001b[1;32m     17\u001b[0m \u001b[0;34m\u001b[0m\u001b[0m\n",
      "\u001b[0;31mAttributeError\u001b[0m: 'google.protobuf.pyext._message.RepeatedCompositeCo' object has no attribute 'process'"
     ]
    }
   ],
   "source": [
    "cap = cv2.VideoCapture(0)\n",
    "# Initiate holistic model\n",
    "with mp_pose.Pose(min_detection_confidence=0.5, min_tracking_confidence=0.5) as pose:\n",
    "    \n",
    "    while cap.isOpened():\n",
    "        ret, frame = cap.read()\n",
    "        \n",
    "        # Recolor Feed\n",
    "        image = cv2.flip(frame,1)\n",
    "        image = cv2.cvtColor(image, cv2.COLOR_BGR2RGB)\n",
    "        image.flags.writeable = False        \n",
    "        \n",
    "        \n",
    "        # Make Detections\n",
    "        results = pose.process(image)\n",
    "        # print(results.face_landmarks)\n",
    "        \n",
    "        # face_landmarks, pose_landmarks, left_hand_landmarks, right_hand_landmarks\n",
    "        \n",
    "        # Recolor image back to BGR for rendering\n",
    "        image.flags.writeable = True   \n",
    "        image = cv2.cvtColor(image, cv2.COLOR_RGB2BGR)\n",
    "\n",
    "        # 4. Pose Detections\n",
    "        mp_drawing.draw_landmarks(image, results.pose_landmarks, mp_pose.POSE_CONNECTIONS, \n",
    "                                 mp_drawing.DrawingSpec(color=(245,117,66), thickness=2, circle_radius=4),\n",
    "                                 mp_drawing.DrawingSpec(color=(245,66,230), thickness=2, circle_radius=2)\n",
    "                                 )\n",
    "        # Export coordinates\n",
    "        try:\n",
    "            # Extract Pose landmarks\n",
    "            pose = results.pose_landmarks.landmark\n",
    "            pose_row = list(np.array([[landmark.x, landmark.y, landmark.z, landmark.visibility] for landmark in pose]).flatten())\n",
    "            \n",
    "            # Make Detections\n",
    "            X = pd.DataFrame([pose_row])\n",
    "            body_language_class = model.predict(X)[0]\n",
    "            body_language_prob = model.predict_proba(X)[0]\n",
    "            print(body_language_class, body_language_prob)\n",
    "            \n",
    "            # Grab ear coords\n",
    "            coords = tuple(np.multiply(\n",
    "                            np.array(\n",
    "                                (results.pose_landmarks.landmark[mp_holistic.PoseLandmark.LEFT_EAR].x, \n",
    "                                 results.pose_landmarks.landmark[mp_holistic.PoseLandmark.LEFT_EAR].y))\n",
    "                        , [640,480]).astype(int))\n",
    "            \n",
    "            cv2.rectangle(image, \n",
    "                          (coords[0], coords[1]+5), \n",
    "                          (coords[0]+len(body_language_class)*20, coords[1]-30), \n",
    "                          (245, 117, 16), -1)\n",
    "            cv2.putText(image, body_language_class, coords, \n",
    "                        cv2.FONT_HERSHEY_SIMPLEX, 1, (255, 255, 255), 2, cv2.LINE_AA)\n",
    "            \n",
    "            # Get status box\n",
    "            cv2.rectangle(image, (0,0), (250, 60), (245, 117, 16), -1)\n",
    "            \n",
    "            # Display Class\n",
    "            cv2.putText(image, 'CLASS'\n",
    "                        , (95,12), cv2.FONT_HERSHEY_SIMPLEX, 0.5, (0, 0, 0), 1, cv2.LINE_AA)\n",
    "            cv2.putText(image, body_language_class.split(' ')[0]\n",
    "                        , (90,40), cv2.FONT_HERSHEY_SIMPLEX, 1, (255, 255, 255), 2, cv2.LINE_AA)\n",
    "            \n",
    "            # Display Probability\n",
    "            cv2.putText(image, 'PROB'\n",
    "                        , (15,12), cv2.FONT_HERSHEY_SIMPLEX, 0.5, (0, 0, 0), 1, cv2.LINE_AA)\n",
    "            cv2.putText(image, str(round(body_language_prob[np.argmax(body_language_prob)],2))\n",
    "                        , (10,40), cv2.FONT_HERSHEY_SIMPLEX, 1, (255, 255, 255), 2, cv2.LINE_AA)\n",
    "            \n",
    "        except:\n",
    "            pass\n",
    "                        \n",
    "        cv2.imshow('Raw Webcam Feed', image)\n",
    "\n",
    "        if cv2.waitKey(10) & 0xFF == ord('q'):\n",
    "            break\n",
    "\n",
    "cap.release()\n",
    "cv2.destroyAllWindows()"
   ]
  },
  {
   "cell_type": "code",
   "execution_count": 87,
   "id": "f2fc3c90",
   "metadata": {},
   "outputs": [
    {
     "name": "stdout",
     "output_type": "stream",
     "text": [
      "Collecting protobuf==3.8.0\n",
      "  Downloading protobuf-3.8.0-py2.py3-none-any.whl (427 kB)\n",
      "\u001b[K     |████████████████████████████████| 427 kB 1.1 MB/s eta 0:00:01\n",
      "\u001b[?25hRequirement already satisfied: setuptools in /usr/local/Cellar/jupyterlab/3.1.14/libexec/lib/python3.9/site-packages (from protobuf==3.8.0) (57.4.0)\n",
      "Requirement already satisfied: six>=1.9 in /usr/local/Cellar/six/1.16.0_1/lib/python3.9/site-packages (from protobuf==3.8.0) (1.16.0)\n",
      "Installing collected packages: protobuf\n",
      "  Attempting uninstall: protobuf\n",
      "    Found existing installation: protobuf 3.18.1\n",
      "    Not uninstalling protobuf at /usr/local/lib/python3.9/site-packages, outside environment /usr/local/Cellar/jupyterlab/3.1.14/libexec\n",
      "    Can't uninstall 'protobuf'. No files were found to uninstall.\n",
      "\u001b[31mERROR: pip's dependency resolver does not currently take into account all the packages that are installed. This behaviour is the source of the following dependency conflicts.\n",
      "tensorflow 2.8.0 requires protobuf>=3.9.2, but you have protobuf 3.8.0 which is incompatible.\n",
      "mediapipe 0.8.8 requires protobuf>=3.11.4, but you have protobuf 3.8.0 which is incompatible.\u001b[0m\n",
      "Successfully installed protobuf-3.8.0\n",
      "\u001b[33mWARNING: You are using pip version 21.2.4; however, version 22.0.4 is available.\n",
      "You should consider upgrading via the '/usr/local/Cellar/jupyterlab/3.1.14/libexec/bin/python3.9 -m pip install --upgrade pip' command.\u001b[0m\n",
      "Note: you may need to restart the kernel to use updated packages.\n"
     ]
    }
   ],
   "source": [
    "pip install -U protobuf==3.8.0"
   ]
  },
  {
   "cell_type": "code",
   "execution_count": 38,
   "id": "cb38ba16",
   "metadata": {},
   "outputs": [
    {
     "name": "stdout",
     "output_type": "stream",
     "text": [
      "Requirement already satisfied: protobuf in /usr/local/Cellar/jupyterlab/3.1.14/libexec/lib/python3.9/site-packages (3.20.0)\n",
      "Note: you may need to restart the kernel to use updated packages.\n"
     ]
    }
   ],
   "source": [
    "pip install --upgrade protobuf"
   ]
  },
  {
   "cell_type": "code",
   "execution_count": 37,
   "id": "eda876ba",
   "metadata": {},
   "outputs": [
    {
     "name": "stdout",
     "output_type": "stream",
     "text": [
      "Requirement already satisfied: pip in /usr/local/Cellar/jupyterlab/3.1.14/libexec/lib/python3.9/site-packages (21.2.4)\n",
      "Collecting pip\n",
      "  Downloading pip-22.0.4-py3-none-any.whl (2.1 MB)\n",
      "\u001b[K     |████████████████████████████████| 2.1 MB 1.6 MB/s eta 0:00:01     |██████████████████████▊         | 1.5 MB 1.6 MB/s eta 0:00:01\n",
      "\u001b[?25hInstalling collected packages: pip\n",
      "  Attempting uninstall: pip\n",
      "    Found existing installation: pip 21.2.4\n",
      "    Uninstalling pip-21.2.4:\n",
      "      Successfully uninstalled pip-21.2.4\n",
      "Successfully installed pip-22.0.4\n",
      "Note: you may need to restart the kernel to use updated packages.\n"
     ]
    }
   ],
   "source": [
    "pip install --upgrade pip"
   ]
  },
  {
   "cell_type": "code",
   "execution_count": null,
   "id": "5839f9a7",
   "metadata": {},
   "outputs": [],
   "source": []
  }
 ],
 "metadata": {
  "kernelspec": {
   "display_name": "Python 3 (ipykernel)",
   "language": "python",
   "name": "python3"
  },
  "language_info": {
   "codemirror_mode": {
    "name": "ipython",
    "version": 3
   },
   "file_extension": ".py",
   "mimetype": "text/x-python",
   "name": "python",
   "nbconvert_exporter": "python",
   "pygments_lexer": "ipython3",
   "version": "3.9.7"
  }
 },
 "nbformat": 4,
 "nbformat_minor": 5
}
